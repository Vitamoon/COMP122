{
 "cells": [
  {
   "attachments": {},
   "cell_type": "markdown",
   "metadata": {},
   "source": [
    "# Final Project: Semiconductor Company Sales Analysis by Kaelan Yim\n",
    "    for COMP 122 - Spring 2023"
   ]
  },
  {
   "attachments": {},
   "cell_type": "markdown",
   "metadata": {},
   "source": [
    "## Table of Contents\n",
    "<ul>\n",
    "<li><a href=\"#intro\">I. Introduction</a></li>\n",
    "<li><a href=\"#wrangling\">II. Data Wrangling</a></li>\n",
    "<li><a href=\"#eda\">III. Exploratory Data Analysis</a></li>\n",
    "<li><a href=\"#conclusions\">IV. Conclusions</a></li>\n",
    "</ul>"
   ]
  },
  {
   "attachments": {},
   "cell_type": "markdown",
   "metadata": {},
   "source": [
    "<a id='intro'></a>\n",
    "## Introduction\n",
    "I will be using a chart of semiconductor company market revenue worldwide from 2009 to 2022 from Statista.\n",
    "Some companies I expect to see on there are well-known chip manufacturers like Intel, Samsung, and Micron.\n",
    "\n",
    "The questions I will analyze are:\n",
    "1. Which company grew the most from 2009 to 2022?\n",
    "2. How this number compares to the average of the company's year-over-year gains?\n",
    "3. Which company produced the most revenue cumulatively?"
   ]
  },
  {
   "attachments": {},
   "cell_type": "markdown",
   "metadata": {},
   "source": [
    "<b>Import Required Libraries:</b> The first step of coding is to import the required libraries such as Pandas, NumPy, and Matplotlib. These libraries provide useful functions for data analysis and visualization."
   ]
  },
  {
   "cell_type": "code",
   "execution_count": 2,
   "metadata": {},
   "outputs": [],
   "source": [
    "import pandas as pd\n",
    "import matplotlib.pyplot as plt\n",
    "import numpy as np"
   ]
  },
  {
   "attachments": {},
   "cell_type": "markdown",
   "metadata": {},
   "source": [
    "<b>Load the Dataset:</b> Use the Pandas library to load the dataset into a Pandas DataFrame object."
   ]
  },
  {
   "cell_type": "code",
   "execution_count": 3,
   "metadata": {},
   "outputs": [],
   "source": [
    "df = pd.read_csv(r'.\\semicon.csv')"
   ]
  },
  {
   "attachments": {},
   "cell_type": "markdown",
   "metadata": {},
   "source": [
    "<b>Explore the Dataset:</b> Use various Pandas functions to explore the dataset, including:<br>\n",
    "\n",
    "<b>head()</b> and <b>tail()</b> functions to view the first and last few rows of the dataset.<br>\n",
    "\n",
    "<b>info()</b> function to get information about the data types of each column and the number of non-null values in each column.<br>\n",
    "\n",
    "<b>describe()</b> function to get a summary of the dataset's statistical measures such as mean, standard deviation, minimum and maximum values, etc.<br>\n",
    "\n",
    "<b>value_counts()</b> function to get the frequency of each unique value in a particular column.<br>"
   ]
  },
  {
   "cell_type": "code",
   "execution_count": 4,
   "metadata": {},
   "outputs": [
    {
     "name": "stdout",
     "output_type": "stream",
     "text": [
      "<class 'pandas.core.frame.DataFrame'>\n",
      "RangeIndex: 14 entries, 0 to 13\n",
      "Data columns (total 19 columns):\n",
      " #   Column                   Non-Null Count  Dtype  \n",
      "---  ------                   --------------  -----  \n",
      " 0   Year                     14 non-null     int64  \n",
      " 1   Samsung Electronics      14 non-null     float64\n",
      " 2   Intel                    14 non-null     float64\n",
      " 3   SK Hynix                 14 non-null     float64\n",
      " 4   Qualcomm                 14 non-null     float64\n",
      " 5   Micron Technology        14 non-null     float64\n",
      " 6   Broadcom                 14 non-null     float64\n",
      " 7   AMD                      3 non-null      float64\n",
      " 8   Texas Instruments        14 non-null     float64\n",
      " 9   MediaTek                 5 non-null      float64\n",
      " 10  Apple                    2 non-null      float64\n",
      " 11  STMicroelectronics       9 non-null      float64\n",
      " 12  Western Digital          2 non-null      float64\n",
      " 13  Renesas Technology       6 non-null      float64\n",
      " 14  Infineon                 2 non-null      float64\n",
      " 15  NXP                      4 non-null      float64\n",
      " 16  Kioxia (Toshiba Memory)  10 non-null     float64\n",
      " 17  Nvidia                   3 non-null      float64\n",
      " 18  Others                   14 non-null     float64\n",
      "dtypes: float64(18), int64(1)\n",
      "memory usage: 2.2 KB\n",
      "None\n",
      "   Year  Samsung Electronics  Intel  SK Hynix  Qualcomm  Micron Technology   \n",
      "0  2009                17.75  33.43      6.04      6.41               4.17  \\\n",
      "1  2010                28.10  42.00      9.90      7.20               8.20   \n",
      "2  2011                27.76  50.67      9.39     10.00               7.64   \n",
      "3  2012                28.62  49.09      8.97     13.18               6.92   \n",
      "4  2013                30.64  48.59     12.63     17.21              11.92   \n",
      "\n",
      "   Broadcom  AMD  Texas Instruments  MediaTek  Apple  STMicroelectronics   \n",
      "0      4.32  NaN               9.14       NaN    NaN                8.46  \\\n",
      "1      6.60  NaN              11.90       NaN    NaN               10.30   \n",
      "2      7.16  NaN              11.75       NaN    NaN                9.64   \n",
      "3      7.85  NaN              11.11       NaN    NaN                8.42   \n",
      "4      8.20  NaN              10.59       NaN    NaN                8.08   \n",
      "\n",
      "   Western Digital  Renesas Technology  Infineon  NXP   \n",
      "0              NaN                4.54       NaN  NaN  \\\n",
      "1              NaN               10.20       NaN  NaN   \n",
      "2              NaN               10.65       NaN  NaN   \n",
      "3              NaN                9.15       NaN  NaN   \n",
      "4              NaN                7.98       NaN  NaN   \n",
      "\n",
      "   Kioxia (Toshiba Memory)  Nvidia  Others  \n",
      "0                     9.60     NaN  124.82  \n",
      "1                    12.40     NaN  152.58  \n",
      "2                    11.77     NaN  151.34  \n",
      "3                    10.61     NaN  145.99  \n",
      "4                    11.28     NaN  148.32  \n",
      "            Year  Samsung Electronics      Intel   SK Hynix   Qualcomm   \n",
      "count    14.0000            14.000000  14.000000  14.000000  14.000000  \\\n",
      "mean   2015.5000            44.913571  55.595000  19.807857  16.384286   \n",
      "std       4.1833            18.579894  11.372546  10.802587   7.376349   \n",
      "min    2009.0000            17.750000  33.430000   6.040000   6.410000   \n",
      "25%    2012.2500            29.125000  49.485000  10.582500  13.287500   \n",
      "50%    2015.5000            38.975000  53.210000  16.180000  15.750000   \n",
      "75%    2018.7500            60.165000  64.400000  26.240000  17.547500   \n",
      "max    2022.0000            73.710000  72.760000  36.350000  34.750000   \n",
      "\n",
      "       Micron Technology   Broadcom        AMD  Texas Instruments   MediaTek   \n",
      "count          14.000000  14.000000   3.000000          14.000000   5.000000  \\\n",
      "mean           16.655714  12.107857  16.420000          12.911429  12.300000   \n",
      "std             8.577648   5.621209   6.810793           2.600275   5.370731   \n",
      "min             4.170000   4.320000   9.670000           9.140000   6.700000   \n",
      "25%             9.130000   7.937500  12.985000          11.532500   7.960000   \n",
      "50%            15.045000  10.825000  16.300000          11.900000  10.990000   \n",
      "75%            22.620000  15.665000  19.795000          13.642500  17.620000   \n",
      "max            29.740000  23.810000  23.290000          18.810000  18.230000   \n",
      "\n",
      "           Apple  STMicroelectronics  Western Digital  Renesas Technology   \n",
      "count   2.000000            9.000000         2.000000            6.000000  \\\n",
      "mean   12.600000            8.520000         6.665000            8.300000   \n",
      "std     7.000357            1.132563         3.528463            2.242115   \n",
      "min     7.650000            6.800000         4.170000            4.540000   \n",
      "25%    10.125000            8.020000         5.417500            7.455000   \n",
      "50%    12.600000            8.420000         6.665000            8.565000   \n",
      "75%    15.075000            9.580000         7.912500            9.937500   \n",
      "max    17.550000           10.300000         9.160000           10.650000   \n",
      "\n",
      "       Infineon       NXP  Kioxia (Toshiba Memory)     Nvidia      Others  \n",
      "count   2.00000  4.000000                10.000000   3.000000   14.000000  \n",
      "mean    6.25000  8.405000                10.361000  11.596667  179.997143  \n",
      "std     0.79196  1.264186                 1.323585   4.816787   46.785746  \n",
      "min     5.69000  6.540000                 7.830000   7.330000  124.820000  \n",
      "25%     5.97000  8.197500                 9.680000   8.985000  149.075000  \n",
      "50%     6.25000  8.885000                10.490000  10.640000  158.825000  \n",
      "75%     6.53000  9.092500                11.127500  13.730000  196.832500  \n",
      "max     6.81000  9.310000                12.400000  16.820000  277.500000  \n"
     ]
    }
   ],
   "source": [
    "print(df.info())\n",
    "print(df.head(5))\n",
    "print(df.describe())\n",
    "# tail and value_counts aren't relevant here\n",
    "# the output is severely truncated, the print for describe doesn't even show up below"
   ]
  },
  {
   "attachments": {},
   "cell_type": "markdown",
   "metadata": {},
   "source": [
    "<a id='wrangling'></a>\n",
    "## Data Wrangling\n",
    "\n",
    "<b>Clean the Dataset:</b> This step involves cleaning the dataset by handling missing or duplicate values, fixing data types, and removing irrelevant columns. <br>Some of the common data cleaning techniques include:\n",
    "<br>\n",
    "Dropping duplicates using <b>drop_duplicates()</b> function.<br>\n",
    "\n",
    "Handling missing values using <b>fillna()</b> function or by removing rows with missing values using <b>dropna()</b>function.<br>\n",
    "\n",
    "Converting data types of columns using <b>astype()</b> function.\n",
    "<br>\n",
    "Renaming columns using <b>rename()</b> function.<br>\n",
    "\n",
    "Removing irrelevant columns using <b>drop()</b> function.<br>"
   ]
  },
  {
   "cell_type": "code",
   "execution_count": 5,
   "metadata": {},
   "outputs": [],
   "source": [
    "# no things I want to do here\n",
    "# I would do fillna but it makes it harder to find the yearly average earnings when the rows are filled with extraneous zeroes"
   ]
  },
  {
   "attachments": {},
   "cell_type": "markdown",
   "metadata": {},
   "source": [
    "<a id='eda'></a>\n",
    "## Exploratory Data Analysis\n",
    "\n",
    "<b>Analyze the Dataset:</b> Once the dataset is cleaned, it's time to perform some analysis to gain insights. This can involve creating visualizations using Matplotlib and performing statistical analysis to answer your research questions. <br>\n",
    "\n"
   ]
  },
  {
   "attachments": {},
   "cell_type": "markdown",
   "metadata": {},
   "source": [
    "### Research Question 1: Which company grew the most from 2009 to 2022?"
   ]
  },
  {
   "cell_type": "code",
   "execution_count": 6,
   "metadata": {},
   "outputs": [
    {
     "name": "stdout",
     "output_type": "stream",
     "text": [
      "The company with the largest growth was Samsung Electronics with 47.84 billion dollars more revenue in the final reported year than the first reported year.\n",
      "This was a 269.5211267605634 percent increase in revenue.\n"
     ]
    },
    {
     "data": {
      "image/png": "[encoded data removed]",
      "text/plain": [
       "<Figure size 640x480 with 1 Axes>"
      ]
     },
     "metadata": {},
     "output_type": "display_data"
    }
   ],
   "source": [
    "amogus = df.columns.tolist()\n",
    "amogus = amogus[1:-1]\n",
    "ax = df.plot.bar(x=\"Year\", y=amogus, rot=0)\n",
    "# not sure how to reposition the legend\n",
    "\n",
    "sus1 = 0\n",
    "sus2 = 0\n",
    "sus3 = \"\"\n",
    "sus4 = \"\"\n",
    "sus5 = 0\n",
    "sus6 = 0\n",
    "\n",
    "for column in df.columns[1:-1]:\n",
    "    begval = df[column].iloc[0]\n",
    "    endval = df[column].iloc[-1]\n",
    "    sus1 = endval - begval\n",
    "    sus3 = column\n",
    "    if sus1 > sus2:\n",
    "        sus2 = sus1\n",
    "        sus4 = sus3\n",
    "        sus5 = begval\n",
    "        sus6 = endval\n",
    "# yes I excluded \"Year\" and \"Others\" since neither are really applicable here\n",
    "\n",
    "sus7 = ((sus6 - sus5) / sus5) * 100\n",
    "print(\"The company with the largest growth was\", sus4, \"with\", sus2, \"billion dollars more revenue in the final reported year than the first reported year.\")\n",
    "print(\"This was a\", sus7, \"percent increase in revenue.\")"
   ]
  },
  {
   "attachments": {},
   "cell_type": "markdown",
   "metadata": {},
   "source": [
    "### Research Question 2: How does this number compares to the average of the company's year-over-year gains?"
   ]
  },
  {
   "cell_type": "code",
   "execution_count": 7,
   "metadata": {},
   "outputs": [
    {
     "name": "stdout",
     "output_type": "stream",
     "text": [
      "The company with the highest year-over-year gain was AMD at 6.81 percent per year.\n",
      "The previous company mentioned above ( Samsung Electronics ) had a 4.745 annual revenue increase.\n"
     ]
    }
   ],
   "source": [
    "sus8 = 0\n",
    "sus9 = 0\n",
    "sus10 = \"\"\n",
    "sus11 = \"\"\n",
    "\n",
    "for column in df.columns[1:-1]:\n",
    "    amo1 = df[column].diff()\n",
    "    avgchg = amo1.mean()\n",
    "    sus8 = avgchg\n",
    "    sus10 = column\n",
    "    if sus8 > sus9:\n",
    "        sus9 = sus8\n",
    "        sus11 = sus10\n",
    "\n",
    "amo2 = df[sus3].diff()\n",
    "amo3 = amo2.mean()\n",
    "sus12 = amo3\n",
    "    \n",
    "print(\"The company with the highest year-over-year gain was\", sus11, \"at\", sus9, \"percent per year.\")\n",
    "print(\"The previous company mentioned above (\", sus4, \") had a\", sus12, \"annual revenue increase.\")"
   ]
  },
  {
   "attachments": {},
   "cell_type": "markdown",
   "metadata": {},
   "source": [
    "### Research Question 3: Which company produced the most revenue cumulatively?"
   ]
  },
  {
   "cell_type": "code",
   "execution_count": 8,
   "metadata": {},
   "outputs": [
    {
     "name": "stdout",
     "output_type": "stream",
     "text": [
      "Intel had the highest total cumulative revenue at 778.33 billion dollars over the reported time period.\n"
     ]
    }
   ],
   "source": [
    "sus13 = 0\n",
    "sus14 = \"\"\n",
    "\n",
    "for column in df.columns[1:-1]:\n",
    "    coltot = df[column].sum()\n",
    "    if coltot > sus13:\n",
    "        sus13 = coltot\n",
    "        sus14 = column\n",
    "\n",
    "print(sus14, \"had the highest total cumulative revenue at\", sus13, \"billion dollars over the reported time period.\")"
   ]
  },
  {
   "attachments": {},
   "cell_type": "markdown",
   "metadata": {},
   "source": [
    "<a id='conclusions'></a>\n",
    "## Conclusions"
   ]
  },
  {
   "attachments": {},
   "cell_type": "markdown",
   "metadata": {},
   "source": [
    "Draw Conclusion: Finally, summarize your findings and draw conclusions based on your analysis."
   ]
  },
  {
   "attachments": {},
   "cell_type": "markdown",
   "metadata": {},
   "source": [
    "If I had to invest in only one of the companies on the datasheet as a consumer, I would likely invest in **Samsung** because of the large growth the company has experienced. **AMD** would also be a good choice from the data results above but because it only has entries for three years of data the numbers could be unreliable. If I were a hedge fund manager, I would invest in **Intel** because they have produced earnings reliably for a long time."
   ]
  }
 ],
 "metadata": {
  "kernelspec": {
   "display_name": "Python 3",
   "language": "python",
   "name": "python3"
  },
  "language_info": {
   "codemirror_mode": {
    "name": "ipython",
    "version": 3
   },
   "file_extension": ".py",
   "mimetype": "text/x-python",
   "name": "python",
   "nbconvert_exporter": "python",
   "pygments_lexer": "ipython3",
   "version": "3.11.2"
  }
 },
 "nbformat": 4,
 "nbformat_minor": 2
}
